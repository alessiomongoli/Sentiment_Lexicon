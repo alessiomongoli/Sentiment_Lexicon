{
  "nbformat": 4,
  "nbformat_minor": 0,
  "metadata": {
    "colab": {
      "name": "preprocessing.py",
      "provenance": [],
      "authorship_tag": "ABX9TyPbJiQ+dJyV4j2yqQpz6PxA",
      "include_colab_link": true
    },
    "kernelspec": {
      "name": "python3",
      "display_name": "Python 3"
    },
    "language_info": {
      "name": "python"
    }
  },
  "cells": [
    {
      "cell_type": "markdown",
      "metadata": {
        "id": "view-in-github",
        "colab_type": "text"
      },
      "source": [
        "<a href=\"https://colab.research.google.com/github/alessiomongoli/Sentiment_Lexicon/blob/main/preprocessing_py.ipynb\" target=\"_parent\"><img src=\"https://colab.research.google.com/assets/colab-badge.svg\" alt=\"Open In Colab\"/></a>"
      ]
    },
    {
      "cell_type": "code",
      "execution_count": 3,
      "metadata": {
        "colab": {
          "base_uri": "https://localhost:8080/"
        },
        "id": "q1u69BgTMbWT",
        "outputId": "43c12d73-240e-42e7-f49e-ca51e6e7cf6a"
      },
      "outputs": [
        {
          "output_type": "stream",
          "name": "stderr",
          "text": [
            "[nltk_data] Downloading package stopwords to /root/nltk_data...\n",
            "[nltk_data]   Package stopwords is already up-to-date!\n",
            "[nltk_data] Downloading package punkt to /root/nltk_data...\n",
            "[nltk_data]   Package punkt is already up-to-date!\n"
          ]
        }
      ],
      "source": [
        "import nltk\n",
        "\n",
        "nltk.download(\"stopwords\")\n",
        "nltk.download('punkt')\n",
        "from spacy.symbols import neg\n",
        "from nltk.tokenize import sent_tokenize\n",
        "\n",
        "NEGATION_TOKENS = {\"not\", \"nor\", \"never\"}  # example\n",
        "\n",
        "\n",
        "def find_negations(review, tokenizer):\n",
        "    \"\"\"\n",
        "    sentence negation processing : \n",
        "    the word just after a negation ('not') is negated\n",
        "    ex : \n",
        "    - I did not like the movie.\n",
        "    >> I did NEGATEDWlike the movie.\n",
        "    \"\"\"\n",
        "    tokens = tokenizer.tokenize(review)\n",
        "    clean_review = ''\n",
        "    for i, t in enumerate(tokens):\n",
        "        if t == 'not' and i != len(tokens) - 1:\n",
        "            tokens[i + 1] = 'NEGATEDW' + tokens[i + 1]\n",
        "        else:\n",
        "            clean_review = clean_review + ' ' + t.lower()\n",
        "    return clean_review.strip()\n",
        "\n",
        "\n",
        "def whole_sentence_negation(review, tokenizer, negation_tokens=NEGATION_TOKENS):\n",
        "    \"\"\"\n",
        "    sentence negation processing : \n",
        "    every word inbetween a negation token and the end of the sentence will be considered negative\n",
        "    ex : (with negation_tokens containing {'not', 'never', 'nor'})\n",
        "    - I did not like the movie.\n",
        "    >> I did NEGATEDWlike NEGATEDWthe NEGATEDWmovie.\n",
        "    \"\"\"\n",
        "    negation_prefix = 'NEGATEDW'\n",
        "    result = list()\n",
        "    for sent in sent_tokenize(review):\n",
        "        tokens = tokenizer.tokenize(sent)\n",
        "        tokens = [t.lower() for t in tokens]\n",
        "        for i, t in enumerate(tokens):\n",
        "            if t in negation_tokens and i != len(tokens) - 1:\n",
        "                for j in range(i + 1, len(tokens)):\n",
        "                    tokens[j] = negation_prefix + tokens[j]\n",
        "                break\n",
        "        result.extend(tokens)\n",
        "    return ' '.join(result)\n",
        "\n",
        "\n",
        "def find_complex_negations(review, parser):\n",
        "    \"\"\"\n",
        "        sentence negation processing :\n",
        "        we negate the words which are referenced through a \"neg\" dependency edge of Spacy dependency parser.\n",
        "        - I did not really like the movie.\n",
        "        >> I did really NEGATEDWlike the movie.\n",
        "        \"\"\"\n",
        "    negation_prefix = 'NEGATEDW'\n",
        "    complete_tokens = []\n",
        "    review = review.lower()\n",
        "    for sent in sent_tokenize(review):\n",
        "        doc = parser(sent)\n",
        "        final_tokens = [w.text for w in doc]\n",
        "        idx_to_delete = []\n",
        "        for i, token in enumerate(doc):\n",
        "            if token.dep == neg:\n",
        "                idx_to_delete.append(i)\n",
        "                for j, final_token in enumerate(final_tokens):\n",
        "                    if final_token == str(token.head):\n",
        "                        final_tokens[j] = negation_prefix + final_token\n",
        "                        break\n",
        "        for index, i in enumerate(idx_to_delete):\n",
        "            del final_tokens[i - index]\n",
        "        complete_tokens = complete_tokens + final_tokens\n",
        "    return ' '.join(complete_tokens).strip()\n"
      ]
    },
    {
      "cell_type": "code",
      "source": [
        ""
      ],
      "metadata": {
        "colab": {
          "base_uri": "https://localhost:8080/"
        },
        "id": "QCYN3JFzez6S",
        "outputId": "aa3db51a-250b-4cf7-a389-db20f91edd8f"
      },
      "execution_count": null,
      "outputs": [
        {
          "output_type": "execute_result",
          "data": {
            "text/plain": [
              "int"
            ]
          },
          "metadata": {},
          "execution_count": 3
        }
      ]
    },
    {
      "cell_type": "code",
      "source": [
        ""
      ],
      "metadata": {
        "id": "TXaphk4me3wJ"
      },
      "execution_count": null,
      "outputs": []
    }
  ]
}