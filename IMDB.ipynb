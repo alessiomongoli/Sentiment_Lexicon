{
  "nbformat": 4,
  "nbformat_minor": 0,
  "metadata": {
    "colab": {
      "name": "IMDB.ipynb",
      "provenance": [],
      "collapsed_sections": [],
      "include_colab_link": true
    },
    "kernelspec": {
      "name": "python3",
      "display_name": "Python 3"
    },
    "language_info": {
      "name": "python"
    }
  },
  "cells": [
    {
      "cell_type": "markdown",
      "metadata": {
        "id": "view-in-github",
        "colab_type": "text"
      },
      "source": [
        "<a href=\"https://colab.research.google.com/github/alessiomongoli/Sentiment_Lexicon/blob/main/IMDB.ipynb\" target=\"_parent\"><img src=\"https://colab.research.google.com/assets/colab-badge.svg\" alt=\"Open In Colab\"/></a>"
      ]
    },
    {
      "cell_type": "code",
      "execution_count": null,
      "metadata": {
        "id": "Hy4xKJKWwcaN"
      },
      "outputs": [],
      "source": [
        "import pandas as pd\n",
        "from nltk import RegexpTokenizer\n",
        "import re"
      ]
    },
    {
      "cell_type": "code",
      "source": [
        "from google.colab import drive\n",
        "drive.mount('/content/drive')"
      ],
      "metadata": {
        "colab": {
          "base_uri": "https://localhost:8080/"
        },
        "id": "HOMMey_GxPPv",
        "outputId": "ac01edaf-0a06-45a6-81d8-d86f14815735"
      },
      "execution_count": null,
      "outputs": [
        {
          "output_type": "stream",
          "name": "stdout",
          "text": [
            "Mounted at /content/drive\n"
          ]
        }
      ]
    },
    {
      "cell_type": "code",
      "source": [
        "def read_IMDB(path):\n",
        "    df = pd.read_csv(path)\n",
        "    tokenizer = RegexpTokenizer(r'\\w+')\n",
        "    df['review'] = df['review'].apply(lambda x: remove_html_tags(x))\n",
        "    df['sentiment'] = df['sentiment'].apply(lambda x: -1 if x == 'negative' else 1)\n",
        "    return df"
      ],
      "metadata": {
        "id": "C5-ZozIKwzZv"
      },
      "execution_count": null,
      "outputs": []
    },
    {
      "cell_type": "code",
      "source": [
        "path='/content/drive/MyDrive/Github/Colab Notebooks/project/test/IMDB-Dataset.csv'"
      ],
      "metadata": {
        "id": "RGYr85_Zw29y"
      },
      "execution_count": null,
      "outputs": []
    },
    {
      "cell_type": "code",
      "source": [
        "def remove_html_tags(text):\n",
        "    \"\"\"Remove html tags from a string\"\"\"\n",
        "    import re\n",
        "    clean = re.compile('<.*?>')\n",
        "    return re.sub(clean, '', text)"
      ],
      "metadata": {
        "id": "f3W0ixqUw5EM"
      },
      "execution_count": null,
      "outputs": []
    },
    {
      "cell_type": "code",
      "source": [
        "df.to_csv('/content/drive/MyDrive/Github/Colab Notebooks/project/IMDB-Dataset_preprocessed.csv',index=False)"
      ],
      "metadata": {
        "id": "BDSh87ppxB3s"
      },
      "execution_count": null,
      "outputs": []
    }
  ]
}