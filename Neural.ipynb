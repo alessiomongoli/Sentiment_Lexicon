{
  "nbformat": 4,
  "nbformat_minor": 0,
  "metadata": {
    "colab": {
      "name": "Neural.ipynb",
      "provenance": [],
      "include_colab_link": true
    },
    "kernelspec": {
      "name": "python3",
      "display_name": "Python 3"
    },
    "language_info": {
      "name": "python"
    }
  },
  "cells": [
    {
      "cell_type": "markdown",
      "metadata": {
        "id": "view-in-github",
        "colab_type": "text"
      },
      "source": [
        "<a href=\"https://colab.research.google.com/github/alessiomongoli/Sentiment_Lexicon/blob/main/Neural.ipynb\" target=\"_parent\"><img src=\"https://colab.research.google.com/assets/colab-badge.svg\" alt=\"Open In Colab\"/></a>"
      ]
    },
    {
      "cell_type": "code",
      "execution_count": 1,
      "metadata": {
        "id": "s-KtDCUs_fJc"
      },
      "outputs": [],
      "source": [
        "import torch.nn as nn\n",
        "import torch.nn.functional as F\n",
        "\n",
        "class RegressionModel(nn.Module):\n",
        "    def __init__(self, low, high, dropout=0.2):\n",
        "        super(RegressionModel, self).__init__()\n",
        "        self.dropout = dropout\n",
        "        self.low = low\n",
        "        self.high = high\n",
        "        self.fc_layer_1 = nn.Linear(300, 500)\n",
        "        self.fc_layer_2 = nn.Linear(500, 500)\n",
        "        self.fc_layer_3 = nn.Linear(500, 100)\n",
        "        self.fc_layer_4 = nn.Linear(100, 9)\n",
        "        self.output = nn.Linear(9, 1)\n",
        "        self.dp = nn.Dropout(p=self.dropout)\n",
        "\n",
        "        self.bn1 = nn.BatchNorm1d(500)\n",
        "        self.bn2 = nn.BatchNorm1d(500)\n",
        "        self.bn3 = nn.BatchNorm1d(100)\n",
        "        self.bn4 = nn.BatchNorm1d(9)\n",
        "\n",
        "    def forward(self, x):\n",
        "        x = F.relu(self.bn1(self.fc_layer_1(x)))\n",
        "        x = self.dp(x)\n",
        "        x = F.relu(self.bn2(self.fc_layer_2(x)))\n",
        "        x = self.dp(x)\n",
        "        x = F.relu(self.bn3(self.fc_layer_3(x)))\n",
        "        x = self.dp(x)\n",
        "        x = F.softmax(self.bn4(self.fc_layer_4(x)), dim=1)\n",
        "        x = x * (self.high - self.low) + self.low\n",
        "        x = self.output(x)\n",
        "        return x\n"
      ]
    },
    {
      "cell_type": "code",
      "source": [
        ""
      ],
      "metadata": {
        "id": "e38LBn3hi-5u"
      },
      "execution_count": null,
      "outputs": []
    }
  ]
}