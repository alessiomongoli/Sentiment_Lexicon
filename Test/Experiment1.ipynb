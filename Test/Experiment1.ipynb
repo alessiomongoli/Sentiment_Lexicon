{
  "nbformat": 4,
  "nbformat_minor": 0,
  "metadata": {
    "colab": {
      "name": "Experiment1.ipynb",
      "provenance": [],
      "collapsed_sections": [],
      "include_colab_link": true
    },
    "kernelspec": {
      "name": "python3",
      "display_name": "Python 3"
    },
    "language_info": {
      "name": "python"
    }
  },
  "cells": [
    {
      "cell_type": "markdown",
      "metadata": {
        "id": "view-in-github",
        "colab_type": "text"
      },
      "source": [
        "<a href=\"https://colab.research.google.com/github/alessiomongoli/Sentiment_Lexicon/blob/main/Test/Experiment1.ipynb\" target=\"_parent\"><img src=\"https://colab.research.google.com/assets/colab-badge.svg\" alt=\"Open In Colab\"/></a>"
      ]
    },
    {
      "cell_type": "code",
      "source": [
        "from sklearn.metrics import accuracy_score\n",
        "from nltk import RegexpTokenizer\n",
        "import pytz\n",
        "import datetime"
      ],
      "metadata": {
        "id": "-xGzx4XUzvSQ"
      },
      "execution_count": null,
      "outputs": []
    },
    {
      "cell_type": "code",
      "execution_count": null,
      "metadata": {
        "id": "y4xn_vLkzVYh"
      },
      "outputs": [],
      "source": [
        "def experiment1 (test_df,complete_results, category, test_dataset):\n",
        "  tokenizer = RegexpTokenizer(r'\\w+')\n",
        "  test_df['review']=test_df['review'].apply(lambda x: tokenizer.tokenize(x.lower()))\n",
        "  test_df['prediction'] = test_df['review'].apply(lambda x: sum_polarity_review(x, complete_results))\n",
        "  test_df['prediction'] = test_df['prediction'].apply(lambda x: -1 if x < test_df[\"prediction\"].mean() else 1)\n",
        "  acc=accuracy_score(test_df[\"sentiment\"], test_df[\"prediction\"])\n",
        "  res = category+' '+test_dataset+' '+'Accuracy: '+str(acc)\n",
        "  time = get_time()\n",
        "  with open('/content/drive/MyDrive/Github/Colab Notebooks/project/Results/experiment1.txt', 'a') as f:\n",
        "    f.writelines('\\n'+time+' '+res)\n",
        "    f.close()\n",
        "  return acc"
      ]
    },
    {
      "cell_type": "code",
      "source": [
        "def sum_polarity_review(tokens,complete_results):\n",
        "  tot_pol=0\n",
        "  for token in tokens:\n",
        "    if token in complete_results:\n",
        "      tot_pol+= complete_results[token] \n",
        "    else:\n",
        "      tot_pol+=0\n",
        "  tot_pol=tot_pol/len(tokens)\n",
        "  return tot_pol"
      ],
      "metadata": {
        "id": "2RbqIwmq_4ve"
      },
      "execution_count": null,
      "outputs": []
    },
    {
      "cell_type": "code",
      "source": [
        "def get_time():\n",
        "  timezone = pytz.timezone('Europe/Rome')\n",
        "  now = datetime.datetime.now(tz = timezone)\n",
        "  dt_string = now.strftime(\"%d/%m/%Y %H:%M:%S\")\n",
        "  return dt_string"
      ],
      "metadata": {
        "id": "_j_czpGM77Fx"
      },
      "execution_count": null,
      "outputs": []
    },
    {
      "cell_type": "code",
      "source": [
        ""
      ],
      "metadata": {
        "id": "1ergeZj5omlg"
      },
      "execution_count": null,
      "outputs": []
    }
  ]
}