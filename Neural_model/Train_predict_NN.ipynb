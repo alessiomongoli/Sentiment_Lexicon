{
  "nbformat": 4,
  "nbformat_minor": 0,
  "metadata": {
    "colab": {
      "name": "Train_predict_NN.ipynb",
      "provenance": [],
      "collapsed_sections": [],
      "include_colab_link": true
    },
    "kernelspec": {
      "name": "python3",
      "display_name": "Python 3"
    },
    "language_info": {
      "name": "python"
    }
  },
  "cells": [
    {
      "cell_type": "markdown",
      "metadata": {
        "id": "view-in-github",
        "colab_type": "text"
      },
      "source": [
        "<a href=\"https://colab.research.google.com/github/alessiomongoli/Sentiment_Lexicon/blob/main/Neural_model/Train_predict_NN.ipynb\" target=\"_parent\"><img src=\"https://colab.research.google.com/assets/colab-badge.svg\" alt=\"Open In Colab\"/></a>"
      ]
    },
    {
      "cell_type": "code",
      "source": [
        "from Neural_model.Neural import RegressionModel\n",
        "from Neural_model.EarlyStopping import EarlyStopping"
      ],
      "metadata": {
        "id": "6dbiaXGbqVUO"
      },
      "execution_count": null,
      "outputs": []
    },
    {
      "cell_type": "code",
      "execution_count": null,
      "metadata": {
        "id": "g4fwOu3hWnnI"
      },
      "outputs": [],
      "source": [
        "import torch\n",
        "import torch.optim as optim\n",
        "from torch.nn import MSELoss\n",
        "import numpy as np\n",
        "import time\n",
        "# Garbage Collector\n",
        "import gc\n",
        "\n",
        "checkpoint_path= '/content/drive/MyDrive/Github/Colab Notebooks/project/checkpoint/checkpoint.pt'\n",
        "\n",
        "def train(dataset, category, negation_type, batch_size=32, n_workers=2, lr=1e-3, n_epochs=100):\n",
        "    start = time.time()\n",
        "    \"\"\"\n",
        "    Trains the regression network given the seed dataset as input.\n",
        "    \"\"\"\n",
        "    torch.manual_seed(11)\n",
        "    # Mean Squared Error Loss\n",
        "    loss = MSELoss()\n",
        "    # TODO: Modificare il path\n",
        "    early_stopping = EarlyStopping(verbose=True, path=checkpoint_path)\n",
        "    train_dataloader = torch.utils.data.DataLoader(\n",
        "        dataset,\n",
        "        batch_size=batch_size,\n",
        "        shuffle=True,\n",
        "        num_workers=int(n_workers))\n",
        "    # We use a Regression Model\n",
        "    model = RegressionModel(low=dataset.get_min_score(), high=dataset.get_max_score())\n",
        "    # Adaptive Moment Estimation is an efficient algorithm for optimization technique for gradient descent\n",
        "    optimizer = optim.Adam(model.parameters(), lr=lr)\n",
        "    # For GPU usage\n",
        "    model.cuda()\n",
        "    for epoch in range(n_epochs):\n",
        "        losses = list()\n",
        "        for wvs, scores in train_dataloader:\n",
        "            # Set the gradients of all optimized torch.Tensor s to zero. \n",
        "            # PyTorch, by default, accumulates gradients after each backward pass. We need to manually set the gradients to zero before starting a new iteration\n",
        "            optimizer.zero_grad()\n",
        "            wvs = wvs.cuda()\n",
        "            scores = scores.reshape(-1, 1)\n",
        "            scores = scores.cuda()\n",
        "            prediction = model(wvs).cuda()\n",
        "            batch_loss = loss(prediction, scores)\n",
        "            losses.append(batch_loss.item())\n",
        "            # Recurrent Back-propagation\n",
        "            batch_loss.backward()\n",
        "            optimizer.step()\n",
        "        epoch_loss = np.mean(np.array(losses))\n",
        "        early_stopping(epoch_loss, model, epoch)\n",
        "        if early_stopping.early_stop:\n",
        "            print(\"Early stopping\")\n",
        "            break\n",
        "        gc.collect()\n",
        "        torch.cuda.empty_cache()\n",
        "    # TODO: Modificare il percorso di torch.load\n",
        "    model.load_state_dict(torch.load(checkpoint_path))\n",
        "    end = time.time()\n",
        "\n",
        "    with open('/content/drive/MyDrive/Github/Colab Notebooks/project/Results/time.txt', 'a') as f:\n",
        "      f.writelines('\\n'+category+'_'+negation_type+' Training phase: '+str(end-start)+' seconds')\n",
        "      f.close()\n",
        "    return model\n",
        "\n",
        "def predict(model, test_dataset, category, negation_type):\n",
        "    \n",
        "    start = time.time()\n",
        "    \"\"\"\n",
        "    Expands label over to the test dataset of non-seed words.\n",
        "    \"\"\"\n",
        "    model.cuda()\n",
        "    model.eval()\n",
        "    results = {}\n",
        "    test_dataloader = torch.utils.data.DataLoader(\n",
        "        test_dataset,\n",
        "        batch_size=64,\n",
        "        shuffle=True,\n",
        "        num_workers=2)\n",
        "    with torch.no_grad():\n",
        "        for wv, w in test_dataloader:\n",
        "            wv = wv.cuda()\n",
        "            pred = model(wv)\n",
        "            for word, score in zip(w, pred.cpu().squeeze().tolist()):\n",
        "                results[word] = score\n",
        "    \n",
        "    end = time.time()\n",
        "    with open('/content/drive/MyDrive/Github/Colab Notebooks/project/Results/time.txt', 'a') as f:\n",
        "      f.writelines('\\n'+category+'_'+negation_type+' Predict phase: '+str(end-start)+' seconds')\n",
        "      f.close()\n",
        "    return results\n"
      ]
    },
    {
      "cell_type": "code",
      "source": [
        ""
      ],
      "metadata": {
        "id": "oRZt2GbFpvYq"
      },
      "execution_count": null,
      "outputs": []
    }
  ]
}