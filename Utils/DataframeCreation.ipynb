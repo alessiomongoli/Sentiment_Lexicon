{
  "nbformat": 4,
  "nbformat_minor": 0,
  "metadata": {
    "colab": {
      "name": "DataframeCreation.ipynb",
      "provenance": [],
      "collapsed_sections": [],
      "include_colab_link": true
    },
    "kernelspec": {
      "name": "python3",
      "display_name": "Python 3"
    },
    "language_info": {
      "name": "python"
    }
  },
  "cells": [
    {
      "cell_type": "markdown",
      "metadata": {
        "id": "view-in-github",
        "colab_type": "text"
      },
      "source": [
        "<a href=\"https://colab.research.google.com/github/alessiomongoli/Sentiment_Lexicon/blob/main/Utils/DataframeCreation.ipynb\" target=\"_parent\"><img src=\"https://colab.research.google.com/assets/colab-badge.svg\" alt=\"Open In Colab\"/></a>"
      ]
    },
    {
      "cell_type": "code",
      "source": [
        "import pandas as pd"
      ],
      "metadata": {
        "id": "ajyyJbQpi1Hz"
      },
      "execution_count": null,
      "outputs": []
    },
    {
      "cell_type": "code",
      "execution_count": null,
      "metadata": {
        "id": "S9N_ajBVivzV"
      },
      "outputs": [],
      "source": [
        "def creation_dataframe(vocabulary,coefficents, frequencies):\n",
        "  word=[]\n",
        "  valore=[]\n",
        "  pol=[]\n",
        "  for key,value in vocabulary.items():\n",
        "    word.append(key)\n",
        "    valore.append(frequencies[value])\n",
        "    pol.append(coefficents[value])\n",
        "  data=pd.DataFrame(columns=['Token','Frequence','Polarity'])\n",
        "  data['Token']=word\n",
        "  data['Frequence']=valore\n",
        "  data['Polarity']=pol\n",
        "  return data"
      ]
    }
  ]
}