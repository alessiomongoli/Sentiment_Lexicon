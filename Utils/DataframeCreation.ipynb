{
  "nbformat": 4,
  "nbformat_minor": 0,
  "metadata": {
    "colab": {
      "name": "DataframeCreation.ipynb",
      "provenance": [],
      "collapsed_sections": [],
      "include_colab_link": true
    },
    "kernelspec": {
      "name": "python3",
      "display_name": "Python 3"
    },
    "language_info": {
      "name": "python"
    }
  },
  "cells": [
    {
      "cell_type": "markdown",
      "metadata": {
        "id": "view-in-github",
        "colab_type": "text"
      },
      "source": [
        "<a href=\"https://colab.research.google.com/github/alessiomongoli/Sentiment_Lexicon/blob/main/Utils/DataframeCreation.ipynb\" target=\"_parent\"><img src=\"https://colab.research.google.com/assets/colab-badge.svg\" alt=\"Open In Colab\"/></a>"
      ]
    },
    {
      "cell_type": "code",
      "source": [
        "import pandas as pd\n",
        "import numpy as np"
      ],
      "metadata": {
        "id": "ajyyJbQpi1Hz"
      },
      "execution_count": null,
      "outputs": []
    },
    {
      "cell_type": "code",
      "execution_count": null,
      "metadata": {
        "id": "S9N_ajBVivzV"
      },
      "outputs": [],
      "source": [
        "def creation_dataframe(vocabulary,coefficents, frequencies):\n",
        "  word=[]\n",
        "  valore=[]\n",
        "  pol=[]\n",
        "  for key,value in vocabulary.items():\n",
        "    word.append(key)\n",
        "    valore.append(frequencies[value])\n",
        "    pol.append(coefficents[value])\n",
        "  data=pd.DataFrame(columns=['Token','Frequence','Polarity'])\n",
        "  data['Token']=word\n",
        "  data['Frequence']=valore\n",
        "  data['Polarity']=pol\n",
        "  return data"
      ]
    },
    {
      "cell_type": "code",
      "source": [
        "def create_dataframe_price_equal_size(path_category, path_metadata):\n",
        "  \n",
        "  df_category = getDF(path_category)\n",
        "  df_category = df_category.drop(columns=['reviewerID', 'reviewerName', 'helpful', 'summary', 'unixReviewTime', 'reviewTime'])\n",
        "  df_category = df_category[df_category['overall'] != 3.0]\n",
        "  df_category = df_category.rename(columns = {'overall':'label'})\n",
        "  df_category=df_category.dropna().reset_index(drop=True)\n",
        "  \n",
        "  df_category = df_category.set_index('asin')\n",
        "  df_metadata = getDF(path_metadata)\n",
        "  df_metadata = df_metadata.drop(columns=[ 'title', 'imUrl', 'salesRank', 'categories', 'related','brand', 'description'])\n",
        "  df_metadata = df_metadata.set_index('asin')\n",
        "  df_new = df_category.join(df_metadata)\n",
        "  df_new=df_new.dropna().reset_index(drop=True)\n",
        "  df_new['price'] = df_new['price'].round(decimals = 0)\n",
        "  df_new = df_new.astype({'price':'int'})\n",
        "  df_new = df_new[df_new['price']>0].reset_index(drop=True)\n",
        "  \n",
        "  df_new = df_new.sort_values(by = 'price').reset_index(drop=True)\n",
        "  df_low_price, df_medium_price, df_high_price = np.array_split(df_new, 3)\n",
        "\n",
        "  df_medium_price=df_medium_price.reset_index(drop=True)\n",
        "  df_high_price=df_high_price.reset_index(drop=True)\n",
        "                                     \n",
        "  return df_low_price, df_medium_price, df_high_price"
      ],
      "metadata": {
        "id": "KRIbZtpdgEEz"
      },
      "execution_count": null,
      "outputs": []
    },
    {
      "cell_type": "code",
      "source": [
        "import gzip\n",
        "\n",
        "def parse(path):\n",
        "  g = gzip.open(path, 'rb')\n",
        "  for l in g:\n",
        "    yield eval(l)\n",
        "\n",
        "def getDF(path):\n",
        "  i = 0\n",
        "  df = {}\n",
        "  for d in parse(path):\n",
        "    df[i] = d\n",
        "    i += 1\n",
        "  return pd.DataFrame.from_dict(df, orient='index')"
      ],
      "metadata": {
        "id": "5JLNOdZHgLyb"
      },
      "execution_count": null,
      "outputs": []
    },
    {
      "cell_type": "code",
      "source": [
        "def compute_statistics_dataframe (df):\n",
        "  min_price = df['price'].min()\n",
        "  max_price = df['price'].max()\n",
        "  mean_price =df['price'].mean()\n",
        "  number_of_reviews = len(df)\n",
        "  c = df['reviewText'].apply(lambda x: len(x.split()))\n",
        "  mean_lenght_review = c.mean()\n",
        "\n",
        "  return min_price, max_price, mean_price, number_of_reviews, mean_lenght_review"
      ],
      "metadata": {
        "id": "kOvatfrogNwy"
      },
      "execution_count": null,
      "outputs": []
    }
  ]
}