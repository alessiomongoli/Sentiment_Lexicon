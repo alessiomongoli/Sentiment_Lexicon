{
  "nbformat": 4,
  "nbformat_minor": 0,
  "metadata": {
    "colab": {
      "name": "Glove.ipynb",
      "provenance": [],
      "include_colab_link": true
    },
    "kernelspec": {
      "name": "python3",
      "display_name": "Python 3"
    },
    "language_info": {
      "name": "python"
    }
  },
  "cells": [
    {
      "cell_type": "markdown",
      "metadata": {
        "id": "view-in-github",
        "colab_type": "text"
      },
      "source": [
        "<a href=\"https://colab.research.google.com/github/alessiomongoli/Sentiment_Lexicon/blob/main/Glove.ipynb\" target=\"_parent\"><img src=\"https://colab.research.google.com/assets/colab-badge.svg\" alt=\"Open In Colab\"/></a>"
      ]
    },
    {
      "cell_type": "code",
      "source": [
        "import pickle"
      ],
      "metadata": {
        "id": "j0fDMuWq5kA6"
      },
      "execution_count": 3,
      "outputs": []
    },
    {
      "cell_type": "code",
      "source": [
        "def load_glove_word(file):\n",
        "  glove_emb={}\n",
        "  with open(file,'rb') as f:\n",
        "    glove_embeddings = pickle.load(f)\n",
        "  vocab_list_glove = list()\n",
        "  for index, key in enumerate(glove_embeddings.keys()):\n",
        "    if len(glove_embeddings[key]) == 300:\n",
        "      vocab_list_glove.append(key)\n",
        "      glove_emb[key]=glove_embeddings[key]\n",
        "  return vocab_list_glove, glove_emb"
      ],
      "metadata": {
        "id": "AUabmtpd5uHc"
      },
      "execution_count": 6,
      "outputs": []
    },
    {
      "cell_type": "code",
      "source": [
        ""
      ],
      "metadata": {
        "id": "dh0KtiRc5zc4"
      },
      "execution_count": null,
      "outputs": []
    }
  ]
}