{
  "nbformat": 4,
  "nbformat_minor": 0,
  "metadata": {
    "colab": {
      "name": "Glove.ipynb",
      "provenance": [],
      "include_colab_link": true
    },
    "kernelspec": {
      "name": "python3",
      "display_name": "Python 3"
    },
    "language_info": {
      "name": "python"
    }
  },
  "cells": [
    {
      "cell_type": "markdown",
      "metadata": {
        "id": "view-in-github",
        "colab_type": "text"
      },
      "source": [
        "<a href=\"https://colab.research.google.com/github/alessiomongoli/Sentiment_Lexicon/blob/main/Glove.ipynb\" target=\"_parent\"><img src=\"https://colab.research.google.com/assets/colab-badge.svg\" alt=\"Open In Colab\"/></a>"
      ]
    },
    {
      "cell_type": "code",
      "source": [
        "import pickle"
      ],
      "metadata": {
        "id": "j0fDMuWq5kA6"
      },
      "execution_count": 1,
      "outputs": []
    },
    {
      "cell_type": "code",
      "source": [
        "#Read glove embedding\n",
        "#Filter glove word that are present in our BoW\n",
        "#Return: Dictionary of glove word in common with our BOW (word: Embedding)\n",
        "#Return: glove word not present in the BOW (quindi non hanno polarity) (word_not_present: Embedding)\n",
        "\n",
        "def load_filter_glove_word(file, token):\n",
        "  glove_emb={}\n",
        "  glove_wo_pol={}\n",
        "  all_glove={}\n",
        "  with open(file,'rb') as f:\n",
        "    glove_embeddings = pickle.load(f)\n",
        "  vocab_list_glove = list()\n",
        "  for index, key in enumerate(glove_embeddings.keys()):\n",
        "    if len(glove_embeddings[key]) == 300:\n",
        "      if key in token:\n",
        "        glove_emb[key]=glove_embeddings[key]\n",
        "      else:\n",
        "        glove_wo_pol[key]=glove_embeddings[key]            \n",
        "  return  glove_emb,glove_wo_pol\n",
        "\n",
        "\n",
        "\n",
        "def load__all_glove_word(file):\n",
        "  with open(file,'rb') as f:\n",
        "    glove_embeddings = pickle.load(f)\n",
        "  all_glove={}\n",
        "  for index, key in enumerate(glove_embeddings.keys()):\n",
        "    if len(glove_embeddings[key]) == 300:\n",
        "      all_glove[key]=glove_embeddings[key]\n",
        "  return all_glove"
      ],
      "metadata": {
        "id": "AUabmtpd5uHc"
      },
      "execution_count": 3,
      "outputs": []
    },
    {
      "cell_type": "code",
      "source": [
        ""
      ],
      "metadata": {
        "id": "dh0KtiRc5zc4"
      },
      "execution_count": null,
      "outputs": []
    }
  ]
}