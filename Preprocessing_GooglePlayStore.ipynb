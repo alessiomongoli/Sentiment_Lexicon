{
  "nbformat": 4,
  "nbformat_minor": 0,
  "metadata": {
    "colab": {
      "name": "Preprocessing_GooglePlayStore.ipynb",
      "provenance": [],
      "mount_file_id": "1CS4ufaIiZ7n46jHLagUF00TW-tnWe4c-",
      "authorship_tag": "ABX9TyMFVmh4gPZv83lFo+Ifk6Zg",
      "include_colab_link": true
    },
    "kernelspec": {
      "name": "python3",
      "display_name": "Python 3"
    },
    "language_info": {
      "name": "python"
    }
  },
  "cells": [
    {
      "cell_type": "markdown",
      "metadata": {
        "id": "view-in-github",
        "colab_type": "text"
      },
      "source": [
        "<a href=\"https://colab.research.google.com/github/alessiomongoli/Sentiment_Lexicon/blob/main/Preprocessing_GooglePlayStore.ipynb\" target=\"_parent\"><img src=\"https://colab.research.google.com/assets/colab-badge.svg\" alt=\"Open In Colab\"/></a>"
      ]
    },
    {
      "cell_type": "code",
      "execution_count": 1,
      "metadata": {
        "id": "r7SuYBoP58o_"
      },
      "outputs": [],
      "source": [
        "import pandas as pd"
      ]
    },
    {
      "cell_type": "code",
      "source": [
        "def preproccessing_Google():\n",
        "  df = pd.read_csv('/content/drive/MyDrive/Github/Colab Notebooks/project/googleplaystore_user_reviews.csv')\n",
        "  \n",
        "  df = df.drop(columns=['App', 'Sentiment_Polarity', 'Sentiment_Subjectivity'])\n",
        "  \n",
        "  df = df[df['Sentiment'] != 'Neutral']\n",
        "  df=df.dropna().reset_index(drop=True)\n",
        "  \n",
        "  df['Sentiment'] = df['Sentiment'].map({'Positive':1, 'Negative': -1 })\n",
        "  df['Sentiment'] = df['Sentiment'].astype('int')\n",
        "  \n",
        "  df = df.rename(columns = {'Translated_Review':'review', 'Sentiment':'sentiment'})\n",
        "  \n",
        "  return df"
      ],
      "metadata": {
        "id": "Y3pqnbohoNOH"
      },
      "execution_count": 2,
      "outputs": []
    }
  ]
}