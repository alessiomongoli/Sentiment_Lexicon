{
  "nbformat": 4,
  "nbformat_minor": 0,
  "metadata": {
    "colab": {
      "name": "TrainSVM.ipynb",
      "provenance": [],
      "collapsed_sections": [],
      "include_colab_link": true
    },
    "kernelspec": {
      "name": "python3",
      "display_name": "Python 3"
    },
    "language_info": {
      "name": "python"
    }
  },
  "cells": [
    {
      "cell_type": "markdown",
      "metadata": {
        "id": "view-in-github",
        "colab_type": "text"
      },
      "source": [
        "<a href=\"https://colab.research.google.com/github/alessiomongoli/Sentiment_Lexicon/blob/main/Data_induction/TrainSVM.ipynb\" target=\"_parent\"><img src=\"https://colab.research.google.com/assets/colab-badge.svg\" alt=\"Open In Colab\"/></a>"
      ]
    },
    {
      "cell_type": "code",
      "source": [
        "import numpy as np\n",
        "from sklearn.svm import LinearSVC\n",
        "import time"
      ],
      "metadata": {
        "id": "cb8fatdhjUMK"
      },
      "execution_count": null,
      "outputs": []
    },
    {
      "cell_type": "code",
      "execution_count": null,
      "metadata": {
        "id": "lwbmTt_XzNs4"
      },
      "outputs": [],
      "source": [
        "def LinearCoefficentsSVM(X, y, category, negation_type):\n",
        "  start = time.time()\n",
        "  clf_linearSVC = LinearSVC(random_state=0, tol=1e-4, class_weight='balanced', fit_intercept=False)\n",
        "  clf_linearSVC.fit(X,y)\n",
        "  coefficents = np.array(clf_linearSVC.coef_[0], dtype=np.float32)\n",
        "  end = time.time()\n",
        "  with open('/content/Sentiment_Lexicon/Results/time.txt', 'a') as f:\n",
        "      f.writelines('\\n'+category+'_'+negation_type+' TrainSVM phase: '+str(end-start)+' seconds')\n",
        "      f.close()\n",
        "  return coefficents"
      ]
    }
  ]
}