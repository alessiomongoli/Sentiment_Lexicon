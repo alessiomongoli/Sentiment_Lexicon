{
  "nbformat": 4,
  "nbformat_minor": 0,
  "metadata": {
    "colab": {
      "name": "Seed_Data.ipynb",
      "provenance": [],
      "collapsed_sections": [],
      "include_colab_link": true
    },
    "kernelspec": {
      "name": "python3",
      "display_name": "Python 3"
    },
    "language_info": {
      "name": "python"
    }
  },
  "cells": [
    {
      "cell_type": "markdown",
      "metadata": {
        "id": "view-in-github",
        "colab_type": "text"
      },
      "source": [
        "<a href=\"https://colab.research.google.com/github/alessiomongoli/Sentiment_Lexicon/blob/main/Data_induction/Seed_Data.ipynb\" target=\"_parent\"><img src=\"https://colab.research.google.com/assets/colab-badge.svg\" alt=\"Open In Colab\"/></a>"
      ]
    },
    {
      "cell_type": "code",
      "execution_count": null,
      "metadata": {
        "id": "GcJaRI8Un0YO"
      },
      "outputs": [],
      "source": [
        "import torch\n",
        "from torch.utils.data import Dataset\n",
        "import numpy as np\n",
        "\n",
        "class SeedDataset(Dataset):\n",
        "    def __init__(self, word, embeddings, pol=[], split='train'):\n",
        "        self.split = split\n",
        "        if self.split == 'train':\n",
        "            self.scores = np.array(pol, dtype=np.float32)\n",
        "        self.words = word\n",
        "        self.embeddings = embeddings\n",
        "\n",
        "    def __getitem__(self, index):\n",
        "        \"\"\"\n",
        "        If it is the training dataset, it returns (embeddings, pol). X is the tensor of word embedding Y scores\n",
        "        If it is the test dataset, it returns (embedding, word).\n",
        "        Input of neural network is the embedding of the word\n",
        "        \"\"\"\n",
        "        x = torch.tensor(self.embeddings[self.words[index]])\n",
        "        if self.split == 'train':\n",
        "            y = torch.tensor(self.scores[index])\n",
        "            return x, y\n",
        "        w = self.words[index]\n",
        "        return x, w\n",
        "\n",
        "    def __len__(self):\n",
        "        return len(self.words)\n",
        "\n",
        "    def get_min_score(self):\n",
        "        return min(self.scores)\n",
        "\n",
        "    def get_max_score(self):\n",
        "        return max(self.scores)\n",
        "\n",
        "    def get_result(self):\n",
        "        if self.split == 'test':\n",
        "            print(\"Test: return only word\")\n",
        "            return {x: 0 for x in self.words}\n",
        "        else:\n",
        "            return {x: y for x, y in zip(self.words, self.scores)}"
      ]
    }
  ]
}